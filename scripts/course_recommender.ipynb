{
 "nbformat": 4,
 "nbformat_minor": 2,
 "metadata": {
  "language_info": {
   "name": "python",
   "codemirror_mode": {
    "name": "ipython",
    "version": 3
   },
   "version": "3.6.7-final"
  },
  "orig_nbformat": 2,
  "file_extension": ".py",
  "mimetype": "text/x-python",
  "name": "python",
  "npconvert_exporter": "python",
  "pygments_lexer": "ipython3",
  "version": 3,
  "kernelspec": {
   "name": "python36764bitbaseconda4629efd241df47b8be61fb0665b6c03d",
   "display_name": "Python 3.6.7 64-bit ('base': conda)"
  }
 },
 "cells": [
  {
   "cell_type": "code",
   "execution_count": null,
   "metadata": {},
   "outputs": [],
   "source": [
    "# Packages\n",
    "import numpy as np\n",
    "import pandas as pd"
   ]
  },
  {
   "cell_type": "code",
   "execution_count": 12,
   "metadata": {},
   "outputs": [
    {
     "output_type": "execute_result",
     "data": {
      "text/plain": "A     25482\nA-    10055\nB+     5702\nB      5474\nA+     4122\nB-     1530\nC       878\nC+      608\nF       457\nC-      185\nD       166\nD+       55\nD-       45\nName: grade_code, dtype: int64"
     },
     "metadata": {},
     "execution_count": 12
    }
   ],
   "source": [
    "#Import Data\n",
    "\n",
    "#TODO replace csv with database connection for taken_course_c table\n",
    "df = pd.read_csv(\"/Users/andymrkva/git/CourseRecommender/data/cleaned_data/taken_course_c.csv\")\n",
    "\n",
    "# Remove grades we are not interested in.\n",
    "df = df[df[\"grade_code\"].str.startswith(('A','B','C','D','F')) & ~df[\"grade_code\"].str.startswith('DNG')]\n",
    "\n",
    "df[\"grade_code\"].value_counts()"
   ]
  },
  {
   "cell_type": "code",
   "execution_count": null,
   "metadata": {},
   "outputs": [],
   "source": []
  }
 ]
}